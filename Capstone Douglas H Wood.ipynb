{
 "cells": [
  {
   "cell_type": "markdown",
   "metadata": {},
   "source": [
    "# Data Science Prep Course Capstone Review Project"
   ]
  },
  {
   "cell_type": "markdown",
   "metadata": {},
   "source": [
    "# Douglas H. Wood"
   ]
  },
  {
   "cell_type": "markdown",
   "metadata": {},
   "source": [
    "## Introduction"
   ]
  },
  {
   "cell_type": "markdown",
   "metadata": {},
   "source": [
    "This data set consists of publicly-available files downloaded from the Citi Bike program website. The Citi Bike program began in 2013 in New York City and is now the largest bike share program in the United States. Users of the system can unlock bikes from a network of docking stations throughout the city, and return them to any other station in the system. There are now thousands of bikes and hundreds of stations in New York City and Jersey City.\n",
    "The data is interesting because the use of bicycles in urban areas has the potential: to benefit the health and well-being of those who use them, to decrease the amount of engine exhaust entering city air, and to reduce the amount of money expended by residents on transportation, thereby increasing the quality of life for residents."
   ]
  },
  {
   "cell_type": "markdown",
   "metadata": {},
   "source": [
    "In this presentation, we will examine the duration of bike trips, see how the number of bikes at each station is changing as bikes are being moved around from station to station by users, and see if there is a statistical difference between round-trip and one-way use.\n",
    "Insights about the changing numbers of bikes at each station will be useful to the system operator in the future as it develops or improves an algorithm that most efficiently allocates and re-distribute bikes between stations."
   ]
  },
  {
   "cell_type": "markdown",
   "metadata": {},
   "source": [
    "## Describing the Data"
   ]
  },
  {
   "cell_type": "markdown",
   "metadata": {},
   "source": [
    "The first task was to decide how much of the available data to use. The Citi Bike website makes available monthly files beginning in May 2013, when the program began, through the present. Each file is between 40 and 200 MB. At a rough estimate, the average file size is 100 MB, so a year's worth of data would be around 1.2 GB. The size of all of the available data would be about 6 GB. The iMac on which I work has about 40 GB of storage in its memory, but only 4 GB of RAM, so in order to process and visualize the data in Python, I elected to try one full year of data. I selected 2016, since it is the most recent full year of data. But even with just one year of data, my computer took a long time to process some cells. Accordingly, I elected to process just two Summer months - June and July of 2016 (ridership is lower in the Winter months)."
   ]
  },
  {
   "cell_type": "markdown",
   "metadata": {},
   "source": [
    "Selecting those two months was helpful in that some months had column headings with capital letters such as \"Start Station ID,\" and other months had lower case such as \"start station id.\" In order to facilitate processing a full year, the column headings in the data files would need to be made consistent."
   ]
  },
  {
   "cell_type": "markdown",
   "metadata": {},
   "source": [
    "The data is in .csv (Comma Separated Values) format and includes the following columns: \n",
    "Trip Duration (seconds);\n",
    "Start Time and Date;\n",
    "Stop Time and Date;\n",
    "Start Station Name;\n",
    "End Station Name;\n",
    "Station ID;\n",
    "Station Lat/Long;\n",
    "Bike ID;\n",
    "User Type (Customer = 24-hour pass or 3-day pass user, Subscriber = Annual Member);\n",
    "Gender (Zero=unknown, 1=male, 2=female); and\n",
    "Year of Birth."
   ]
  },
  {
   "cell_type": "markdown",
   "metadata": {},
   "source": [
    "Citi Bike processed the data to remove both trips taken by staff and any trips that were below 60 seconds in length (apparently false starts or users trying to re-dock a bike)."
   ]
  },
  {
   "cell_type": "markdown",
   "metadata": {},
   "source": [
    "The next task was to assemble a master data frame out of the monthly files downloaded from the website."
   ]
  },
  {
   "cell_type": "code",
   "execution_count": 1,
   "metadata": {},
   "outputs": [],
   "source": [
    "import numpy as np\n",
    "import pandas as pd\n",
    "import scipy\n",
    "from scipy.stats import ttest_ind\n",
    "import matplotlib.pyplot as plt\n",
    "%matplotlib inline\n",
    "import statistics"
   ]
  },
  {
   "cell_type": "code",
   "execution_count": 2,
   "metadata": {},
   "outputs": [],
   "source": [
    "#Assemble master df ('df2016') for two months of 2016 by appending each monthly dataframe to a single dataframe.#"
   ]
  },
  {
   "cell_type": "code",
   "execution_count": 3,
   "metadata": {},
   "outputs": [],
   "source": [
    "df2016 = pd.DataFrame()"
   ]
  },
  {
   "cell_type": "code",
   "execution_count": 4,
   "metadata": {},
   "outputs": [],
   "source": [
    "for month in range(6,8):\n",
    "    filename = '2016{}-citibike-tripdata.csv'.format(month)\n",
    "    framename = pd.read_csv(filename)\n",
    "    df2016 = df2016.append(framename)"
   ]
  },
  {
   "cell_type": "markdown",
   "metadata": {},
   "source": [
    "One interesting initial point of discussion is the sheer size of the program, and the number of trips per year. Evidently many New York City residents find the program a useful means of transportation. There are well over thirteen million trips per year, with nearly three million trips in June and July of 2016 alone."
   ]
  },
  {
   "cell_type": "code",
   "execution_count": 5,
   "metadata": {},
   "outputs": [
    {
     "name": "stdout",
     "output_type": "stream",
     "text": [
      "2840428\n"
     ]
    }
   ],
   "source": [
    "print(len(df2016))"
   ]
  },
  {
   "cell_type": "code",
   "execution_count": 6,
   "metadata": {},
   "outputs": [
    {
     "name": "stdout",
     "output_type": "stream",
     "text": [
      "Index(['tripduration', 'starttime', 'stoptime', 'start station id',\n",
      "       'start station name', 'start station latitude',\n",
      "       'start station longitude', 'end station id', 'end station name',\n",
      "       'end station latitude', 'end station longitude', 'bikeid', 'usertype',\n",
      "       'birth year', 'gender'],\n",
      "      dtype='object')\n"
     ]
    }
   ],
   "source": [
    "print(df2016.columns)"
   ]
  },
  {
   "cell_type": "markdown",
   "metadata": {},
   "source": [
    "What proportion of the users are short-term customers and how many are annual members?"
   ]
  },
  {
   "cell_type": "code",
   "execution_count": 7,
   "metadata": {},
   "outputs": [
    {
     "data": {
      "text/html": [
       "<div>\n",
       "<style>\n",
       "    .dataframe thead tr:only-child th {\n",
       "        text-align: right;\n",
       "    }\n",
       "\n",
       "    .dataframe thead th {\n",
       "        text-align: left;\n",
       "    }\n",
       "\n",
       "    .dataframe tbody tr th {\n",
       "        vertical-align: top;\n",
       "    }\n",
       "</style>\n",
       "<table border=\"1\" class=\"dataframe\">\n",
       "  <thead>\n",
       "    <tr style=\"text-align: right;\">\n",
       "      <th></th>\n",
       "      <th>tripduration</th>\n",
       "      <th>starttime</th>\n",
       "      <th>stoptime</th>\n",
       "      <th>start station id</th>\n",
       "      <th>start station name</th>\n",
       "      <th>start station latitude</th>\n",
       "      <th>start station longitude</th>\n",
       "      <th>end station id</th>\n",
       "      <th>end station name</th>\n",
       "      <th>end station latitude</th>\n",
       "      <th>end station longitude</th>\n",
       "      <th>bikeid</th>\n",
       "      <th>birth year</th>\n",
       "      <th>gender</th>\n",
       "    </tr>\n",
       "    <tr>\n",
       "      <th>usertype</th>\n",
       "      <th></th>\n",
       "      <th></th>\n",
       "      <th></th>\n",
       "      <th></th>\n",
       "      <th></th>\n",
       "      <th></th>\n",
       "      <th></th>\n",
       "      <th></th>\n",
       "      <th></th>\n",
       "      <th></th>\n",
       "      <th></th>\n",
       "      <th></th>\n",
       "      <th></th>\n",
       "      <th></th>\n",
       "    </tr>\n",
       "  </thead>\n",
       "  <tbody>\n",
       "    <tr>\n",
       "      <th>Customer</th>\n",
       "      <td>358723</td>\n",
       "      <td>358723</td>\n",
       "      <td>358723</td>\n",
       "      <td>358723</td>\n",
       "      <td>358723</td>\n",
       "      <td>358723</td>\n",
       "      <td>358723</td>\n",
       "      <td>358723</td>\n",
       "      <td>358723</td>\n",
       "      <td>358723</td>\n",
       "      <td>358723</td>\n",
       "      <td>358723</td>\n",
       "      <td>2614</td>\n",
       "      <td>358723</td>\n",
       "    </tr>\n",
       "    <tr>\n",
       "      <th>Subscriber</th>\n",
       "      <td>2481705</td>\n",
       "      <td>2481705</td>\n",
       "      <td>2481705</td>\n",
       "      <td>2481705</td>\n",
       "      <td>2481705</td>\n",
       "      <td>2481705</td>\n",
       "      <td>2481705</td>\n",
       "      <td>2481705</td>\n",
       "      <td>2481705</td>\n",
       "      <td>2481705</td>\n",
       "      <td>2481705</td>\n",
       "      <td>2481705</td>\n",
       "      <td>2439013</td>\n",
       "      <td>2481705</td>\n",
       "    </tr>\n",
       "  </tbody>\n",
       "</table>\n",
       "</div>"
      ],
      "text/plain": [
       "            tripduration  starttime  stoptime  start station id  \\\n",
       "usertype                                                          \n",
       "Customer          358723     358723    358723            358723   \n",
       "Subscriber       2481705    2481705   2481705           2481705   \n",
       "\n",
       "            start station name  start station latitude  \\\n",
       "usertype                                                 \n",
       "Customer                358723                  358723   \n",
       "Subscriber             2481705                 2481705   \n",
       "\n",
       "            start station longitude  end station id  end station name  \\\n",
       "usertype                                                                \n",
       "Customer                     358723          358723            358723   \n",
       "Subscriber                  2481705         2481705           2481705   \n",
       "\n",
       "            end station latitude  end station longitude   bikeid  birth year  \\\n",
       "usertype                                                                       \n",
       "Customer                  358723                 358723   358723        2614   \n",
       "Subscriber               2481705                2481705  2481705     2439013   \n",
       "\n",
       "             gender  \n",
       "usertype             \n",
       "Customer     358723  \n",
       "Subscriber  2481705  "
      ]
     },
     "execution_count": 7,
     "metadata": {},
     "output_type": "execute_result"
    }
   ],
   "source": [
    "df2016.groupby('usertype').count()"
   ]
  },
  {
   "cell_type": "code",
   "execution_count": 8,
   "metadata": {},
   "outputs": [
    {
     "data": {
      "text/plain": [
       "0.12629188277259623"
      ]
     },
     "execution_count": 8,
     "metadata": {},
     "output_type": "execute_result"
    }
   ],
   "source": [
    "358723/(358723 + 2481705)"
   ]
  },
  {
   "cell_type": "markdown",
   "metadata": {},
   "source": [
    "12.6% are short-term customers, while 87.4% are annual subscribers."
   ]
  },
  {
   "cell_type": "markdown",
   "metadata": {},
   "source": [
    "What proportion of users are male, and what proportion female? "
   ]
  },
  {
   "cell_type": "code",
   "execution_count": 9,
   "metadata": {},
   "outputs": [
    {
     "data": {
      "text/plain": [
       "gender\n",
       "0     404900\n",
       "1    1823832\n",
       "2     611696\n",
       "Name: tripduration, dtype: int64"
      ]
     },
     "execution_count": 9,
     "metadata": {},
     "output_type": "execute_result"
    }
   ],
   "source": [
    "df2016.groupby('gender').count().iloc[:,0]"
   ]
  },
  {
   "cell_type": "markdown",
   "metadata": {},
   "source": [
    "The Citi Bike website indicates that gender 0 indicates that the gender is unknown, 1 indicates male, and 2 female, so:"
   ]
  },
  {
   "cell_type": "code",
   "execution_count": 10,
   "metadata": {},
   "outputs": [
    {
     "data": {
      "text/plain": [
       "0.25115539628368055"
      ]
     },
     "execution_count": 10,
     "metadata": {},
     "output_type": "execute_result"
    }
   ],
   "source": [
    "611696/(611696 + 1823832)"
   ]
  },
  {
   "cell_type": "markdown",
   "metadata": {},
   "source": [
    "25.1% of users who reported their gender reported female and 74.9% male."
   ]
  },
  {
   "cell_type": "markdown",
   "metadata": {},
   "source": [
    "How are the users distributed by age?"
   ]
  },
  {
   "cell_type": "code",
   "execution_count": 11,
   "metadata": {},
   "outputs": [],
   "source": [
    "df2016['age'] = 2017 - df2016['birth year']"
   ]
  },
  {
   "cell_type": "code",
   "execution_count": 12,
   "metadata": {},
   "outputs": [
    {
     "name": "stderr",
     "output_type": "stream",
     "text": [
      "/usr/local/lib/python3.6/site-packages/numpy/lib/function_base.py:748: RuntimeWarning: invalid value encountered in greater_equal\n",
      "  keep = (tmp_a >= mn)\n",
      "/usr/local/lib/python3.6/site-packages/numpy/lib/function_base.py:749: RuntimeWarning: invalid value encountered in less_equal\n",
      "  keep &= (tmp_a <= mx)\n"
     ]
    },
    {
     "data": {
      "text/plain": [
       "<matplotlib.lines.Line2D at 0x106c34358>"
      ]
     },
     "execution_count": 12,
     "metadata": {},
     "output_type": "execute_result"
    },
    {
     "data": {
      "image/png": "[encoded data removed]",
      "text/plain": [
       "<matplotlib.figure.Figure at 0x1051017b8>"
      ]
     },
     "metadata": {},
     "output_type": "display_data"
    }
   ],
   "source": [
    "plt.hist(df2016['age'], bins = 20, color = 'c', range = (15,85))\n",
    "plt.title('Age Distribution')\n",
    "plt.xlabel('Age (years)')\n",
    "plt.ylabel('Number of Riders')\n",
    "plt.axvline(df2016['age'].mean())"
   ]
  },
  {
   "cell_type": "markdown",
   "metadata": {},
   "source": [
    "Another interesting initial question is how long is the average trip?"
   ]
  },
  {
   "cell_type": "code",
   "execution_count": 13,
   "metadata": {},
   "outputs": [
    {
     "data": {
      "text/plain": [
       "994.89371284890865"
      ]
     },
     "execution_count": 13,
     "metadata": {},
     "output_type": "execute_result"
    }
   ],
   "source": [
    "np.mean(df2016['tripduration'])"
   ]
  },
  {
   "cell_type": "markdown",
   "metadata": {},
   "source": [
    "That's an average trip of 995 seconds, or in minutes:"
   ]
  },
  {
   "cell_type": "code",
   "execution_count": 14,
   "metadata": {},
   "outputs": [
    {
     "data": {
      "text/plain": [
       "16.581561880815144"
      ]
     },
     "execution_count": 14,
     "metadata": {},
     "output_type": "execute_result"
    }
   ],
   "source": [
    "np.mean(df2016['tripduration'])/60"
   ]
  },
  {
   "cell_type": "markdown",
   "metadata": {},
   "source": [
    "The average trip is about 17 minutes, which makes intuitive sense, if most users of the system are commuting to work or running quick errands."
   ]
  },
  {
   "cell_type": "code",
   "execution_count": 15,
   "metadata": {},
   "outputs": [
    {
     "data": {
      "text/plain": [
       "count    2.840428e+06\n",
       "mean     9.948937e+02\n",
       "std      1.101215e+04\n",
       "min      6.100000e+01\n",
       "25%      4.040000e+02\n",
       "50%      6.740000e+02\n",
       "75%      1.143000e+03\n",
       "max      6.707533e+06\n",
       "Name: tripduration, dtype: float64"
      ]
     },
     "execution_count": 15,
     "metadata": {},
     "output_type": "execute_result"
    }
   ],
   "source": [
    "df2016['tripduration'].describe()"
   ]
  },
  {
   "cell_type": "code",
   "execution_count": 16,
   "metadata": {},
   "outputs": [],
   "source": [
    "longest_trip_minutes = np.max(df2016['tripduration'])/60"
   ]
  },
  {
   "cell_type": "code",
   "execution_count": 17,
   "metadata": {},
   "outputs": [],
   "source": [
    "longest_trip_hours = longest_trip_minutes/60"
   ]
  },
  {
   "cell_type": "code",
   "execution_count": 18,
   "metadata": {},
   "outputs": [
    {
     "data": {
      "text/plain": [
       "77.633483796296289"
      ]
     },
     "execution_count": 18,
     "metadata": {},
     "output_type": "execute_result"
    }
   ],
   "source": [
    "longest_trip_hours/24"
   ]
  },
  {
   "cell_type": "markdown",
   "metadata": {},
   "source": [
    "Somehow, a bike was taken out for 78 days, even though the average trip was only 17 minutes. The mean trip was 995 seconds, and the 75th percentile was 1143 seconds. The standard deviation, though, is 11,012 seconds. Perhaps the standard deviation may be skewed by this max outlier trip, which may have been due to a system malfunction or stolen or missing bike. Perhaps just as Citi Bike discarded very short trips from the data set, we should look at the distribution of the data to see if we should discard very long trips as well."
   ]
  },
  {
   "cell_type": "markdown",
   "metadata": {},
   "source": [
    "To see how the trip duration data is distributed, let us plot a histogram of trip duration with the range from 0 to 1150 seconds, or just above the 75th percentile."
   ]
  },
  {
   "cell_type": "code",
   "execution_count": 19,
   "metadata": {},
   "outputs": [
    {
     "data": {
      "text/plain": [
       "Text(0.5,1,'Trip Duration (up to 75th Percentile)')"
      ]
     },
     "execution_count": 19,
     "metadata": {},
     "output_type": "execute_result"
    },
    {
     "data": {
      "image/png": "[encoded data removed]",
      "text/plain": [
       "<matplotlib.figure.Figure at 0x10643ea58>"
      ]
     },
     "metadata": {},
     "output_type": "display_data"
    }
   ],
   "source": [
    "plt.hist(df2016['tripduration'], bins = 30, color = 'c', range = (0,1150))\n",
    "plt.axvline(statistics.mode(df2016['tripduration']))\n",
    "plt.xlabel('Duration (Seconds)')\n",
    "plt.ylabel('Number of Trips')\n",
    "plt.title('Trip Duration (up to 75th Percentile)')"
   ]
  },
  {
   "cell_type": "markdown",
   "metadata": {},
   "source": [
    "## Analysis"
   ]
  },
  {
   "cell_type": "markdown",
   "metadata": {},
   "source": [
    "The **first analytic question** is: What is the distribution of trip duration?"
   ]
  },
  {
   "cell_type": "markdown",
   "metadata": {},
   "source": [
    "Interestingly, to the left of the mode, trip duration resembles a normal distribution, but to the right of the mode, trip duration tails off in a catenary form. The overall distribution is skewed to the left, with shorter trips increasing uniformly in frequency up to the mode, but longer trips decreasing in frequency more gradually. Does the form resemble a Poisson distribution? Let us do a QQ plot to see how well trip duration lines up with a Poisson distribution."
   ]
  },
  {
   "cell_type": "code",
   "execution_count": 20,
   "metadata": {},
   "outputs": [],
   "source": [
    "df_tripsort = pd.DataFrame()"
   ]
  },
  {
   "cell_type": "code",
   "execution_count": 21,
   "metadata": {},
   "outputs": [],
   "source": [
    "df_tripsort['tripduration'] = df2016['tripduration']"
   ]
  },
  {
   "cell_type": "code",
   "execution_count": 58,
   "metadata": {},
   "outputs": [],
   "source": [
    "poisson1 = np.random.poisson(100, 28404)"
   ]
  },
  {
   "cell_type": "code",
   "execution_count": 59,
   "metadata": {},
   "outputs": [],
   "source": [
    "poisson1.sort()"
   ]
  },
  {
   "cell_type": "code",
   "execution_count": 60,
   "metadata": {},
   "outputs": [
    {
     "data": {
      "text/plain": [
       "[<matplotlib.lines.Line2D at 0x114710ef0>]"
      ]
     },
     "execution_count": 60,
     "metadata": {},
     "output_type": "execute_result"
    },
    {
     "data": {
      "image/png": "[encoded data removed]",
      "text/plain": [
       "<matplotlib.figure.Figure at 0x1064dc2b0>"
      ]
     },
     "metadata": {},
     "output_type": "display_data"
    }
   ],
   "source": [
    "plt.plot(poisson1,df_tripsort.sample(frac=0.01).sort_values(by='tripduration'), \"o\")"
   ]
  },
  {
   "cell_type": "markdown",
   "metadata": {},
   "source": [
    "Evidently trip duration is not distributed in the Poisson manner. Perhaps it is closer to a normal distribution?"
   ]
  },
  {
   "cell_type": "code",
   "execution_count": 61,
   "metadata": {},
   "outputs": [],
   "source": [
    "norm = np.random.normal(400,200,28404)"
   ]
  },
  {
   "cell_type": "code",
   "execution_count": 62,
   "metadata": {},
   "outputs": [],
   "source": [
    "norm.sort()"
   ]
  },
  {
   "cell_type": "code",
   "execution_count": 63,
   "metadata": {},
   "outputs": [
    {
     "data": {
      "text/plain": [
       "[<matplotlib.lines.Line2D at 0x1147f8588>]"
      ]
     },
     "execution_count": 63,
     "metadata": {},
     "output_type": "execute_result"
    },
    {
     "data": {
      "image/png": "[encoded data removed]",
      "text/plain": [
       "<matplotlib.figure.Figure at 0x112f06f28>"
      ]
     },
     "metadata": {},
     "output_type": "display_data"
    }
   ],
   "source": [
    "plt.plot(norm,df_tripsort.sample(frac=0.01).sort_values(by='tripduration'), \"o\")"
   ]
  },
  {
   "cell_type": "markdown",
   "metadata": {},
   "source": [
    "Interestingly, trip duration is not distributed in a normal manner, either. Further analysis is required to determine which distribution most closely models trip duration."
   ]
  },
  {
   "cell_type": "markdown",
   "metadata": {},
   "source": [
    "The **second analytic question** is: Are the bikes 'migrating' to certain stations as relatively more trips end at those stations? From the perspective of the program operator, having bikes accumulate would require a system to return them from: stations at which relatively more trips end, and to: stations from which relatively more trips begin. Let us calculate how frequently each station is used as a start station and as a stop station."
   ]
  },
  {
   "cell_type": "code",
   "execution_count": 64,
   "metadata": {},
   "outputs": [],
   "source": [
    "start_count = df2016.groupby('start station id').count().iloc[:,0]"
   ]
  },
  {
   "cell_type": "code",
   "execution_count": 65,
   "metadata": {},
   "outputs": [
    {
     "data": {
      "text/plain": [
       "start station id\n",
       "72      7633\n",
       "79      5929\n",
       "82      2632\n",
       "83      2895\n",
       "116    12930\n",
       "Name: tripduration, dtype: int64"
      ]
     },
     "execution_count": 65,
     "metadata": {},
     "output_type": "execute_result"
    }
   ],
   "source": [
    "start_count.head()"
   ]
  },
  {
   "cell_type": "code",
   "execution_count": 66,
   "metadata": {},
   "outputs": [],
   "source": [
    "stop_count = df2016.groupby('end station id').count().iloc[:,0]"
   ]
  },
  {
   "cell_type": "code",
   "execution_count": 67,
   "metadata": {},
   "outputs": [
    {
     "data": {
      "text/plain": [
       "end station id\n",
       "72      7589\n",
       "79      5974\n",
       "82      2597\n",
       "83      3266\n",
       "116    13106\n",
       "Name: tripduration, dtype: int64"
      ]
     },
     "execution_count": 67,
     "metadata": {},
     "output_type": "execute_result"
    }
   ],
   "source": [
    "stop_count.head()"
   ]
  },
  {
   "cell_type": "code",
   "execution_count": 68,
   "metadata": {},
   "outputs": [],
   "source": [
    "df_start_stop = pd.DataFrame(start_count)\n",
    "df_start_stop.columns = ['Start Count']\n",
    "df_start_stop = df_start_stop.join(stop_count)\n",
    "df_start_stop.columns = ['Start Count','Stop Count']"
   ]
  },
  {
   "cell_type": "code",
   "execution_count": 69,
   "metadata": {
    "scrolled": true
   },
   "outputs": [
    {
     "data": {
      "text/html": [
       "<div>\n",
       "<style>\n",
       "    .dataframe thead tr:only-child th {\n",
       "        text-align: right;\n",
       "    }\n",
       "\n",
       "    .dataframe thead th {\n",
       "        text-align: left;\n",
       "    }\n",
       "\n",
       "    .dataframe tbody tr th {\n",
       "        vertical-align: top;\n",
       "    }\n",
       "</style>\n",
       "<table border=\"1\" class=\"dataframe\">\n",
       "  <thead>\n",
       "    <tr style=\"text-align: right;\">\n",
       "      <th></th>\n",
       "      <th>Start Count</th>\n",
       "      <th>Stop Count</th>\n",
       "    </tr>\n",
       "    <tr>\n",
       "      <th>start station id</th>\n",
       "      <th></th>\n",
       "      <th></th>\n",
       "    </tr>\n",
       "  </thead>\n",
       "  <tbody>\n",
       "    <tr>\n",
       "      <th>72</th>\n",
       "      <td>7633</td>\n",
       "      <td>7589</td>\n",
       "    </tr>\n",
       "    <tr>\n",
       "      <th>79</th>\n",
       "      <td>5929</td>\n",
       "      <td>5974</td>\n",
       "    </tr>\n",
       "    <tr>\n",
       "      <th>82</th>\n",
       "      <td>2632</td>\n",
       "      <td>2597</td>\n",
       "    </tr>\n",
       "    <tr>\n",
       "      <th>83</th>\n",
       "      <td>2895</td>\n",
       "      <td>3266</td>\n",
       "    </tr>\n",
       "    <tr>\n",
       "      <th>116</th>\n",
       "      <td>12930</td>\n",
       "      <td>13106</td>\n",
       "    </tr>\n",
       "  </tbody>\n",
       "</table>\n",
       "</div>"
      ],
      "text/plain": [
       "                  Start Count  Stop Count\n",
       "start station id                         \n",
       "72                       7633        7589\n",
       "79                       5929        5974\n",
       "82                       2632        2597\n",
       "83                       2895        3266\n",
       "116                     12930       13106"
      ]
     },
     "execution_count": 69,
     "metadata": {},
     "output_type": "execute_result"
    }
   ],
   "source": [
    "df_start_stop.head()"
   ]
  },
  {
   "cell_type": "code",
   "execution_count": 70,
   "metadata": {},
   "outputs": [
    {
     "data": {
      "text/plain": [
       "Start Count    2840428\n",
       "Stop Count     2840398\n",
       "dtype: int64"
      ]
     },
     "execution_count": 70,
     "metadata": {},
     "output_type": "execute_result"
    }
   ],
   "source": [
    "df_start_stop.sum()"
   ]
  },
  {
   "cell_type": "markdown",
   "metadata": {},
   "source": [
    "Since the sum of the two columns is almost the same, the system is essentially \"closed.\" Very few bikes are leaving the system - in this case, only 30 out of 2,840,428. Those bikes may require repair, or be stolen, or possibly are not logged in to an end station because they were out in use when the start and stop counts are taken."
   ]
  },
  {
   "cell_type": "code",
   "execution_count": 71,
   "metadata": {},
   "outputs": [],
   "source": [
    "df_start_stop['Deficit'] = df_start_stop['Start Count'] - df_start_stop['Stop Count']\n",
    "df_start_stop['ratio'] = df_start_stop['Start Count']/df_start_stop['Stop Count']"
   ]
  },
  {
   "cell_type": "code",
   "execution_count": 72,
   "metadata": {},
   "outputs": [
    {
     "data": {
      "text/html": [
       "<div>\n",
       "<style>\n",
       "    .dataframe thead tr:only-child th {\n",
       "        text-align: right;\n",
       "    }\n",
       "\n",
       "    .dataframe thead th {\n",
       "        text-align: left;\n",
       "    }\n",
       "\n",
       "    .dataframe tbody tr th {\n",
       "        vertical-align: top;\n",
       "    }\n",
       "</style>\n",
       "<table border=\"1\" class=\"dataframe\">\n",
       "  <thead>\n",
       "    <tr style=\"text-align: right;\">\n",
       "      <th></th>\n",
       "      <th>Start Count</th>\n",
       "      <th>Stop Count</th>\n",
       "      <th>Deficit</th>\n",
       "      <th>ratio</th>\n",
       "    </tr>\n",
       "    <tr>\n",
       "      <th>start station id</th>\n",
       "      <th></th>\n",
       "      <th></th>\n",
       "      <th></th>\n",
       "      <th></th>\n",
       "    </tr>\n",
       "  </thead>\n",
       "  <tbody>\n",
       "    <tr>\n",
       "      <th>72</th>\n",
       "      <td>7633</td>\n",
       "      <td>7589</td>\n",
       "      <td>44</td>\n",
       "      <td>1.005798</td>\n",
       "    </tr>\n",
       "    <tr>\n",
       "      <th>79</th>\n",
       "      <td>5929</td>\n",
       "      <td>5974</td>\n",
       "      <td>-45</td>\n",
       "      <td>0.992467</td>\n",
       "    </tr>\n",
       "    <tr>\n",
       "      <th>82</th>\n",
       "      <td>2632</td>\n",
       "      <td>2597</td>\n",
       "      <td>35</td>\n",
       "      <td>1.013477</td>\n",
       "    </tr>\n",
       "    <tr>\n",
       "      <th>83</th>\n",
       "      <td>2895</td>\n",
       "      <td>3266</td>\n",
       "      <td>-371</td>\n",
       "      <td>0.886405</td>\n",
       "    </tr>\n",
       "    <tr>\n",
       "      <th>116</th>\n",
       "      <td>12930</td>\n",
       "      <td>13106</td>\n",
       "      <td>-176</td>\n",
       "      <td>0.986571</td>\n",
       "    </tr>\n",
       "  </tbody>\n",
       "</table>\n",
       "</div>"
      ],
      "text/plain": [
       "                  Start Count  Stop Count  Deficit     ratio\n",
       "start station id                                            \n",
       "72                       7633        7589       44  1.005798\n",
       "79                       5929        5974      -45  0.992467\n",
       "82                       2632        2597       35  1.013477\n",
       "83                       2895        3266     -371  0.886405\n",
       "116                     12930       13106     -176  0.986571"
      ]
     },
     "execution_count": 72,
     "metadata": {},
     "output_type": "execute_result"
    }
   ],
   "source": [
    "df_start_stop.head()"
   ]
  },
  {
   "cell_type": "code",
   "execution_count": 73,
   "metadata": {},
   "outputs": [
    {
     "data": {
      "text/plain": [
       "1.9731216931216931"
      ]
     },
     "execution_count": 73,
     "metadata": {},
     "output_type": "execute_result"
    }
   ],
   "source": [
    "df_start_stop['ratio'].max()"
   ]
  },
  {
   "cell_type": "code",
   "execution_count": 74,
   "metadata": {},
   "outputs": [
    {
     "data": {
      "text/plain": [
       "0.053571428571428568"
      ]
     },
     "execution_count": 74,
     "metadata": {},
     "output_type": "execute_result"
    }
   ],
   "source": [
    "df_start_stop['ratio'].min()"
   ]
  },
  {
   "cell_type": "markdown",
   "metadata": {},
   "source": [
    "The bikes certainly are migrating. For example, the bike station with the id number 3236 is used as a starting destination twice as often as it is used as an ending destination. The system operator will have to round up bikes from other stations with lower ratios and return them there. How many bikes would the operator need to relocate in this two-month period?"
   ]
  },
  {
   "cell_type": "code",
   "execution_count": 75,
   "metadata": {},
   "outputs": [
    {
     "data": {
      "text/plain": [
       "107068"
      ]
     },
     "execution_count": 75,
     "metadata": {},
     "output_type": "execute_result"
    }
   ],
   "source": [
    "df_start_stop['Deficit'].abs().sum()"
   ]
  },
  {
   "cell_type": "markdown",
   "metadata": {},
   "source": [
    "Evidently the system operator would have to move 107,068 bikes around the system in a two-month period, or roughly half a million per year, in order to keep some stations from running out of bikes and other stations from overflowing. The question of how to re-allocate the bikes within the system is much greater in magnitude than the number of bikes that leave the system (107,068 v. 30)."
   ]
  },
  {
   "cell_type": "markdown",
   "metadata": {},
   "source": [
    "The **third analytic question** is: since it is possible to do both one-way trips and round trips, what proportion of the trips are round trips?"
   ]
  },
  {
   "cell_type": "code",
   "execution_count": 76,
   "metadata": {},
   "outputs": [
    {
     "data": {
      "text/plain": [
       "0.02225016793243835"
      ]
     },
     "execution_count": 76,
     "metadata": {},
     "output_type": "execute_result"
    }
   ],
   "source": [
    "df_round_trip = pd.DataFrame()\n",
    "df_round_trip = df2016.loc[df2016['start station id'] == df2016['end station id'], :]\n",
    "len(df_round_trip)/len(df2016)"
   ]
  },
  {
   "cell_type": "markdown",
   "metadata": {},
   "source": [
    "So only 2.2% of trips were round-trip. Are these trips simply people who decide that the bikes are not to their liking, or perhaps tourists or people getting exercise?"
   ]
  },
  {
   "cell_type": "code",
   "execution_count": 77,
   "metadata": {},
   "outputs": [
    {
     "data": {
      "text/plain": [
       "count    6.320000e+04\n",
       "mean     1.836837e+03\n",
       "std      8.160445e+03\n",
       "min      6.100000e+01\n",
       "25%      3.590000e+02\n",
       "50%      1.159000e+03\n",
       "75%      2.037000e+03\n",
       "max      1.030505e+06\n",
       "Name: tripduration, dtype: float64"
      ]
     },
     "execution_count": 77,
     "metadata": {},
     "output_type": "execute_result"
    }
   ],
   "source": [
    "df_round_trip['tripduration'].describe()"
   ]
  },
  {
   "cell_type": "markdown",
   "metadata": {},
   "source": [
    "Interestingly, the round trips had a mean duration of 1,836 seconds, about twice as long as the mean for one-way trips."
   ]
  },
  {
   "cell_type": "markdown",
   "metadata": {},
   "source": [
    "Is there a meaningful difference between the length of round-trips and the one-way trips, or is the difference due to random noise in the underlying data? Let us do a t-test on the two kinds of trips."
   ]
  },
  {
   "cell_type": "code",
   "execution_count": 78,
   "metadata": {},
   "outputs": [],
   "source": [
    "df_one_way = pd.DataFrame()"
   ]
  },
  {
   "cell_type": "code",
   "execution_count": 79,
   "metadata": {},
   "outputs": [],
   "source": [
    "df_one_way = df2016.loc[df2016['start station id'] != df2016['end station id'],:]"
   ]
  },
  {
   "cell_type": "code",
   "execution_count": 80,
   "metadata": {},
   "outputs": [
    {
     "data": {
      "text/plain": [
       "<matplotlib.legend.Legend at 0x114a41358>"
      ]
     },
     "execution_count": 80,
     "metadata": {},
     "output_type": "execute_result"
    },
    {
     "data": {
      "image/png": "[encoded data removed]",
      "text/plain": [
       "<matplotlib.figure.Figure at 0x114a41208>"
      ]
     },
     "metadata": {},
     "output_type": "display_data"
    }
   ],
   "source": [
    "plt.hist(df_one_way['tripduration'].sample(frac=0.02), alpha = 0.5, bins = 30, range = (0,3000), label = 'One Way')\n",
    "plt.hist(df_round_trip['tripduration'], alpha =0.5, bins = 30, range = (0,3000), label = 'Round Trip')\n",
    "plt.xlabel('Duration (Seconds)')\n",
    "plt.ylabel('Number of Trips')\n",
    "plt.title('Trip Duration')\n",
    "plt.legend(loc='upper right')"
   ]
  },
  {
   "cell_type": "code",
   "execution_count": 81,
   "metadata": {},
   "outputs": [
    {
     "name": "stdout",
     "output_type": "stream",
     "text": [
      "Ttest_indResult(statistic=25.989346152495486, pvalue=3.4257833278414653e-148)\n"
     ]
    }
   ],
   "source": [
    "print(ttest_ind(df_round_trip['tripduration'], df_one_way['tripduration'], equal_var=False))"
   ]
  },
  {
   "cell_type": "markdown",
   "metadata": {},
   "source": [
    "The t-test is for normal distributions and these are not quite normal distributions. However, the central limit theorem shows that normal distributions can still be used to analyze samples of data from non-normally distributed populations, and here the p-value is so small that we can be confident the difference in means is due to a real difference in the populations and not due to variability in the two groups."
   ]
  },
  {
   "cell_type": "markdown",
   "metadata": {},
   "source": [
    "## Further Research"
   ]
  },
  {
   "cell_type": "markdown",
   "metadata": {},
   "source": [
    "We have found that there is a net migration effect of bikes between stations in the Citi Bike program.\n",
    "\n",
    "How could we use data to help make that process more efficient? Algorithms developed to increase efficiency in bike re-allocation would be useful across multiple industries and systems in which fleets migrate: cargo and commuter planes, truck fleets, delivery vehicle fleets, rental cars, and cargo ships, to name a few. We can use machine learning methods to predict bike arrivals at each station, and the system operator could use that information to optimize transportation of bikes.\n",
    "\n",
    "How could we use data to help the system operator decide where to put more capacity (both bike stations and bikes)? Algorithms developed to answer this question would be useful in allocating transportation infrastructure resources. \n",
    "\n",
    "How could we use data to help the system operator design a better marketing campaign to attract users of all types and in various demographics, and for certain purposes (commuting, shopping, tourism, exercise)? "
   ]
  },
  {
   "cell_type": "markdown",
   "metadata": {},
   "source": [
    "Additional datasets that might help us analyze factors impacting bike usage might include temperature, weather, holidays, subway usage, subway outages, and workplace and residential population density."
   ]
  }
 ],
 "metadata": {
  "kernelspec": {
   "display_name": "Python 3",
   "language": "python",
   "name": "python3"
  },
  "language_info": {
   "codemirror_mode": {
    "name": "ipython",
    "version": 3
   },
   "file_extension": ".py",
   "mimetype": "text/x-python",
   "name": "python",
   "nbconvert_exporter": "python",
   "pygments_lexer": "ipython3",
   "version": "3.6.2"
  }
 },
 "nbformat": 4,
 "nbformat_minor": 2
}
